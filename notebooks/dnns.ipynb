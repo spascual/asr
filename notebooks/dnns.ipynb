{
 "cells": [
  {
   "cell_type": "code",
   "execution_count": 2,
   "metadata": {
    "collapsed": false
   },
   "outputs": [],
   "source": [
    "import numpy as np\n",
    "import pandas as pd\n",
    "import itertools\n",
    "import sys \n",
    "import math\n",
    "import matplotlib.pyplot as plt\n",
    "\n",
    "data = \"layers\"\n",
    "\n",
    "def rows(column,value, df):\n",
    "    a= []\n",
    "    for i in range(0, len(df)):\n",
    "        if df[column][i] == value : \n",
    "            a.append(i)\n",
    "            df_rows = df.loc[a]\n",
    "            df_rows = df_rows.reset_index(drop=True)\n",
    "    return df_rows\n",
    "\n",
    "layers = pd.read_csv(\"layers.csv\", index_col=0, skipinitialspace=True)\n"
   ]
  },
  {
   "cell_type": "code",
   "execution_count": null,
   "metadata": {
    "collapsed": true
   },
   "outputs": [],
   "source": []
  }
 ],
 "metadata": {
  "kernelspec": {
   "display_name": "Python 2",
   "language": "python",
   "name": "python2"
  },
  "language_info": {
   "codemirror_mode": {
    "name": "ipython",
    "version": 2
   },
   "file_extension": ".py",
   "mimetype": "text/x-python",
   "name": "python",
   "nbconvert_exporter": "python",
   "pygments_lexer": "ipython2",
   "version": "2.7.12"
  }
 },
 "nbformat": 4,
 "nbformat_minor": 2
}
