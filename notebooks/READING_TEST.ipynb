{
 "cells": [
  {
   "cell_type": "code",
   "execution_count": 64,
   "metadata": {
    "collapsed": false
   },
   "outputs": [
    {
     "name": "stdout",
     "output_type": "stream",
     "text": [
      "Results file to analyse:result_list.txt\n",
      "Experiment file to analyse:exp_list.txt\n",
      "   BANK       INIT ENV       TEST   HMM  INS  GRAM   CORR    ACC\n",
      "47  MFC       Init   Z  -SUBTRAIN  84.0 -2.5   5.0  61.04  51.36\n",
      "39  MFC  FlatStart   Z  -SUBTRAIN  84.0 -2.5   5.0  61.19  51.32\n",
      "46  MFC       Init   Z  -SUBTRAIN  44.0 -2.5   5.0  58.56  49.26\n",
      "38  MFC  FlatStart   Z  -SUBTRAIN  44.0 -2.5   5.0  58.90  49.11\n",
      "35  MFC  FlatStart   Z  -CORETEST  84.0 -2.5   5.0  58.32  48.90\n",
      "43  MFC       Init   Z  -CORETEST  84.0 -2.5   5.0  57.91  48.82\n",
      "42  MFC       Init   Z  -CORETEST  44.0 -2.5   5.0  56.02  47.29\n",
      "34  MFC  FlatStart   Z  -CORETEST  44.0 -2.5   5.0  56.32  46.86\n",
      "51  FBK       Init   Z  -SUBTRAIN  84.0 -5.0  10.0  58.79  46.53\n",
      "49  FBK  FlatStart   Z  -SUBTRAIN  84.0 -5.0  10.0  59.13  46.18\n",
      "15  MFC       Init   Z  -SUBTRAIN  84.0  0.0   0.0  63.26  45.44\n",
      "11  MFC  FlatStart   Z  -SUBTRAIN  84.0  0.0   0.0  63.40  44.97\n",
      "45  FBK       Init   Z  -SUBTRAIN  84.0 -2.5   5.0  59.78  43.71\n",
      "50  FBK       Init   Z  -CORETEST  84.0 -5.0  10.0  56.49  43.54\n",
      "14  MFC       Init   Z  -SUBTRAIN  44.0  0.0   0.0  60.81  43.49\n",
      "48  FBK  FlatStart   Z  -CORETEST  84.0 -5.0  10.0  56.66  43.31\n",
      "37  FBK  FlatStart   Z  -SUBTRAIN  84.0 -2.5   5.0  60.09  43.23\n",
      "7   MFC       Init   Z  -CORETEST  84.0  0.0   0.0  60.77  42.83\n",
      "3   MFC  FlatStart   Z  -CORETEST  84.0  0.0   0.0  60.65  42.48\n",
      "10  MFC  FlatStart   Z  -SUBTRAIN  44.0  0.0   0.0  61.24  42.40\n",
      "44  FBK       Init   Z  -SUBTRAIN  44.0 -2.5   5.0  56.60  41.63\n",
      "6   MFC       Init   Z  -CORETEST  44.0  0.0   0.0  58.19  41.13\n",
      "33  FBK  FlatStart   Z  -CORETEST  84.0 -2.5   5.0  57.87  41.00\n",
      "36  FBK  FlatStart   Z  -SUBTRAIN  44.0 -2.5   5.0  57.06  40.90\n",
      "2   MFC  FlatStart   Z  -CORETEST  44.0  0.0   0.0  58.99  40.67\n",
      "41  FBK       Init   Z  -CORETEST  84.0 -2.5   5.0  57.22  40.60\n",
      "40  FBK       Init   Z  -CORETEST  44.0 -2.5   5.0  54.87  40.23\n",
      "13  FBK       Init   Z  -SUBTRAIN  84.0  0.0   0.0  60.86  39.73\n",
      "32  FBK  FlatStart   Z  -CORETEST  44.0 -2.5   5.0  55.57  39.42\n",
      "9   FBK  FlatStart   Z  -SUBTRAIN  84.0  0.0   0.0  61.15  39.29\n",
      "12  FBK       Init   Z  -SUBTRAIN  44.0  0.0   0.0  57.68  38.52\n",
      "8   FBK  FlatStart   Z  -SUBTRAIN  44.0  0.0   0.0  58.19  37.28\n",
      "1   FBK  FlatStart   Z  -CORETEST  84.0  0.0   0.0  59.36  36.84\n",
      "5   FBK       Init   Z  -CORETEST  84.0  0.0   0.0  58.25  36.76\n",
      "4   FBK       Init   Z  -CORETEST  44.0  0.0   0.0  56.05  36.74\n",
      "0   FBK  FlatStart   Z  -CORETEST  44.0  0.0   0.0  56.65  35.29\n",
      "28  FBK       Init   Z  -SUBTRAIN  44.0  5.0   0.0  59.92  26.92\n",
      "29  FBK       Init   Z  -SUBTRAIN  84.0  5.0   0.0  63.23  26.58\n",
      "25  FBK  FlatStart   Z  -SUBTRAIN  84.0  5.0   0.0  63.72  24.96\n",
      "24  FBK  FlatStart   Z  -SUBTRAIN  44.0  5.0   0.0  60.91  24.65\n",
      "20  FBK       Init   Z  -CORETEST  44.0  5.0   0.0  58.43  23.99\n",
      "21  FBK       Init   Z  -CORETEST  84.0  5.0   0.0  61.19  23.09\n",
      "17  FBK  FlatStart   Z  -CORETEST  84.0  5.0   0.0  62.52  22.46\n",
      "16  FBK  FlatStart   Z  -CORETEST  44.0  5.0   0.0  59.27  21.91\n",
      "31  MFC       Init   Z  -SUBTRAIN  84.0  5.0   0.0  67.55  10.30\n",
      "27  MFC  FlatStart   Z  -SUBTRAIN  84.0  5.0   0.0  67.63   9.98\n",
      "30  MFC       Init   Z  -SUBTRAIN  44.0  5.0   0.0  65.13   8.87\n",
      "26  MFC  FlatStart   Z  -SUBTRAIN  44.0  5.0   0.0  65.80   7.11\n",
      "22  MFC       Init   Z  -CORETEST  44.0  5.0   0.0  63.91   6.72\n",
      "23  MFC       Init   Z  -CORETEST  84.0  5.0   0.0  65.42   6.17\n",
      "19  MFC  FlatStart   Z  -CORETEST  84.0  5.0   0.0  65.35   5.89\n",
      "18  MFC  FlatStart   Z  -CORETEST  44.0  5.0   0.0  64.18   4.27\n"
     ]
    }
   ],
   "source": [
    "import numpy as np\n",
    "import pandas as pd\n",
    "import itertools\n",
    "results = []\n",
    "result = []\n",
    "param = []\n",
    "result_list = raw_input('Results file to analyse: .txt')\n",
    "exp_list = raw_input('Experiment file to analyse: .txt')\n",
    "with open(result_list) as input_text:\n",
    "    for line in input_text:\n",
    "        items = [item for item in line.split(\",\",1)]\n",
    "        items[0] = float(items[0].strip('WORD: %Corr='))\n",
    "        #errors = items[1].split(\" \",2)[2].split(\",\",5)\n",
    "        items[1] = float(items[1].split(\" \",2)[1].strip('Acc='))\n",
    "        result.append(items)\n",
    "\n",
    "\n",
    "with open(exp_list) as input_text2:\n",
    "    for line in input_text2:\n",
    "        items2 = [item for item in line.split(\" \",5)]\n",
    "        if items2[0].split(\"/\",1)[0].split(\"_\",5)[0] == 'MFC': \n",
    "            TEMP = len(items2[0].split(\"/\",1)[0].split(\"_\",5))-4\n",
    "        else:\n",
    "            TEMP = len(items2[0].split(\"/\",1)[0].split(\"_\",5))-3\n",
    "        TEMP1 = ['Z', 'D', 'D2' ]\n",
    "        items2 = [items2[0].split(\"/\",1)[0].split(\"_\",5)[0],\n",
    "                  items2[0].split(\"/\",1)[0].split(\"_\",5)[-1],\n",
    "                  TEMP1[TEMP],\n",
    "                  items2[1],items2[0].split(\"/\",1)[1].strip(\"decode-mono-hmm\"),\n",
    "                  float(items2[3]), float(items2[5].strip(\"\\n\"))]\n",
    "        param.append(items2)\n",
    "\n",
    "\n",
    "for i in range(len(result)):\n",
    "        results.append(param[i] + result[i])\n",
    "\n",
    "results = np.asarray(results)\n",
    "df = pd.DataFrame(results)\n",
    "df[[4,5,6,7,8]] = df[[4,5,6,7,8]].astype(float)\n",
    "df_sorted = df.sort_values(by=[8], ascending=[False])\n",
    "\n",
    "df_sorted.columns = ['BANK', 'INIT', 'ENV',\n",
    "                   'TEST', 'HMM','INS','GRAM',\n",
    "                  'CORR','ACC']\n",
    "print(df_sorted)\n"
   ]
  },
  {
   "cell_type": "code",
   "execution_count": 43,
   "metadata": {
    "collapsed": false
   },
   "outputs": [
    {
     "data": {
      "text/plain": [
       "Exams  I     int64\n",
       "       II    int64\n",
       "Labs   I     int64\n",
       "       II    int64\n",
       "dtype: object"
      ]
     },
     "execution_count": 43,
     "metadata": {},
     "output_type": "execute_result"
    }
   ],
   "source": [
    "index = list(itertools.product(['Ada','Quinn','Violet'],['Comp','Math','Sci']))\n",
    "headr = list(itertools.product(['Exams','Labs'],['I','II']))\n",
    "indx = pd.MultiIndex.from_tuples(index,names=['Student','Course'])\n",
    "cols = pd.MultiIndex.from_tuples(headr) #Notice these are un-named\n",
    "data = [[70+x+y+(x*y)%3 for x in range(4)] for y in range(9)]\n",
    "df = pd.DataFrame(data,indx,cols); \n",
    "df.dtypes"
   ]
  },
  {
   "cell_type": "code",
   "execution_count": 33,
   "metadata": {
    "collapsed": false
   },
   "outputs": [
    {
     "name": "stdout",
     "output_type": "stream",
     "text": [
      "[1, 3]\n",
      "[3, 4]\n"
     ]
    }
   ],
   "source": [
    "for i in range(len(list1)):\n",
    "    print(list1[i])"
   ]
  },
  {
   "cell_type": "code",
   "execution_count": 41,
   "metadata": {
    "collapsed": false
   },
   "outputs": [
    {
     "data": {
      "text/html": [
       "<div>\n",
       "<table border=\"1\" class=\"dataframe\">\n",
       "  <thead>\n",
       "    <tr>\n",
       "      <th></th>\n",
       "      <th></th>\n",
       "      <th colspan=\"2\" halign=\"left\">Exams</th>\n",
       "      <th colspan=\"2\" halign=\"left\">Labs</th>\n",
       "    </tr>\n",
       "    <tr>\n",
       "      <th></th>\n",
       "      <th></th>\n",
       "      <th>I</th>\n",
       "      <th>II</th>\n",
       "      <th>I</th>\n",
       "      <th>II</th>\n",
       "    </tr>\n",
       "    <tr>\n",
       "      <th>Student</th>\n",
       "      <th>Course</th>\n",
       "      <th></th>\n",
       "      <th></th>\n",
       "      <th></th>\n",
       "      <th></th>\n",
       "    </tr>\n",
       "  </thead>\n",
       "  <tbody>\n",
       "    <tr>\n",
       "      <th rowspan=\"3\" valign=\"top\">Violet</th>\n",
       "      <th>Sci</th>\n",
       "      <td>78</td>\n",
       "      <td>81</td>\n",
       "      <td>81</td>\n",
       "      <td>81</td>\n",
       "    </tr>\n",
       "    <tr>\n",
       "      <th>Math</th>\n",
       "      <td>77</td>\n",
       "      <td>79</td>\n",
       "      <td>81</td>\n",
       "      <td>80</td>\n",
       "    </tr>\n",
       "    <tr>\n",
       "      <th>Comp</th>\n",
       "      <td>76</td>\n",
       "      <td>77</td>\n",
       "      <td>78</td>\n",
       "      <td>79</td>\n",
       "    </tr>\n",
       "    <tr>\n",
       "      <th rowspan=\"3\" valign=\"top\">Quinn</th>\n",
       "      <th>Sci</th>\n",
       "      <td>75</td>\n",
       "      <td>78</td>\n",
       "      <td>78</td>\n",
       "      <td>78</td>\n",
       "    </tr>\n",
       "    <tr>\n",
       "      <th>Math</th>\n",
       "      <td>74</td>\n",
       "      <td>76</td>\n",
       "      <td>78</td>\n",
       "      <td>77</td>\n",
       "    </tr>\n",
       "    <tr>\n",
       "      <th>Comp</th>\n",
       "      <td>73</td>\n",
       "      <td>74</td>\n",
       "      <td>75</td>\n",
       "      <td>76</td>\n",
       "    </tr>\n",
       "    <tr>\n",
       "      <th rowspan=\"3\" valign=\"top\">Ada</th>\n",
       "      <th>Sci</th>\n",
       "      <td>72</td>\n",
       "      <td>75</td>\n",
       "      <td>75</td>\n",
       "      <td>75</td>\n",
       "    </tr>\n",
       "    <tr>\n",
       "      <th>Math</th>\n",
       "      <td>71</td>\n",
       "      <td>73</td>\n",
       "      <td>75</td>\n",
       "      <td>74</td>\n",
       "    </tr>\n",
       "    <tr>\n",
       "      <th>Comp</th>\n",
       "      <td>70</td>\n",
       "      <td>71</td>\n",
       "      <td>72</td>\n",
       "      <td>73</td>\n",
       "    </tr>\n",
       "  </tbody>\n",
       "</table>\n",
       "</div>"
      ],
      "text/plain": [
       "               Exams     Labs    \n",
       "                   I  II    I  II\n",
       "Student Course                   \n",
       "Violet  Sci       78  81   81  81\n",
       "        Math      77  79   81  80\n",
       "        Comp      76  77   78  79\n",
       "Quinn   Sci       75  78   78  78\n",
       "        Math      74  76   78  77\n",
       "        Comp      73  74   75  76\n",
       "Ada     Sci       72  75   75  75\n",
       "        Math      71  73   75  74\n",
       "        Comp      70  71   72  73"
      ]
     },
     "execution_count": 41,
     "metadata": {},
     "output_type": "execute_result"
    }
   ],
   "source": [
    "df.sort_values(by=('Labs', 'II'), ascending=False)"
   ]
  },
  {
   "cell_type": "code",
   "execution_count": 8,
   "metadata": {
    "collapsed": false
   },
   "outputs": [
    {
     "name": "stdout",
     "output_type": "stream",
     "text": [
      "enter a digit: 12\n",
      "enter a digit: 43\n",
      "enter a digit: 12\n",
      "enter a digit: 12\n",
      "enter a digit: 12\n",
      "enter a digit: 3123\n",
      "enter a digit: a\n"
     ]
    },
    {
     "ename": "ValueError",
     "evalue": "invalid literal for int() with base 10: 'a'",
     "output_type": "error",
     "traceback": [
      "\u001b[0;31m---------------------------------------------------------------------------\u001b[0m",
      "\u001b[0;31mValueError\u001b[0m                                Traceback (most recent call last)",
      "\u001b[0;32m<ipython-input-8-17b84bfee161>\u001b[0m in \u001b[0;36m<module>\u001b[0;34m()\u001b[0m\n\u001b[1;32m      2\u001b[0m \u001b[0;32mwhile\u001b[0m \u001b[0mTrue\u001b[0m\u001b[0;34m:\u001b[0m\u001b[0;34m\u001b[0m\u001b[0m\n\u001b[1;32m      3\u001b[0m     \u001b[0;32mtry\u001b[0m\u001b[0;34m:\u001b[0m\u001b[0;34m\u001b[0m\u001b[0m\n\u001b[0;32m----> 4\u001b[0;31m         \u001b[0mx\u001b[0m \u001b[0;34m=\u001b[0m \u001b[0mint\u001b[0m\u001b[0;34m(\u001b[0m\u001b[0mraw_input\u001b[0m\u001b[0;34m(\u001b[0m\u001b[0;34m'enter a digit: '\u001b[0m\u001b[0;34m)\u001b[0m\u001b[0;34m)\u001b[0m\u001b[0;34m\u001b[0m\u001b[0m\n\u001b[0m\u001b[1;32m      5\u001b[0m         \u001b[0mlis\u001b[0m\u001b[0;34m.\u001b[0m\u001b[0mappend\u001b[0m\u001b[0;34m(\u001b[0m\u001b[0mx\u001b[0m\u001b[0;34m)\u001b[0m\u001b[0;34m\u001b[0m\u001b[0m\n\u001b[1;32m      6\u001b[0m     \u001b[0;32mexcept\u001b[0m \u001b[0mlen\u001b[0m\u001b[0;34m(\u001b[0m\u001b[0mlis\u001b[0m\u001b[0;34m)\u001b[0m \u001b[0;34m>\u001b[0m \u001b[0;36m3\u001b[0m\u001b[0;34m:\u001b[0m\u001b[0;34m\u001b[0m\u001b[0m\n",
      "\u001b[0;31mValueError\u001b[0m: invalid literal for int() with base 10: 'a'"
     ]
    }
   ],
   "source": [
    "lis = []\n",
    "while True: \n",
    "    try: \n",
    "        x = int(raw_input('enter a digit: '))\n",
    "        lis.append(x)\n",
    "    except len(lis) > 3: \n",
    "        print 'eres idiota tio, intenta de nuevo'\n"
   ]
  },
  {
   "cell_type": "code",
   "execution_count": 9,
   "metadata": {
    "collapsed": false
   },
   "outputs": [
    {
     "data": {
      "text/plain": [
       "[12, 43, 12, 12, 12, 3123]"
      ]
     },
     "execution_count": 9,
     "metadata": {},
     "output_type": "execute_result"
    }
   ],
   "source": [
    "lis"
   ]
  },
  {
   "cell_type": "code",
   "execution_count": 4,
   "metadata": {
    "collapsed": false
   },
   "outputs": [
    {
     "ename": "SyntaxError",
     "evalue": "invalid syntax (<ipython-input-4-9d60c0b0f77a>, line 2)",
     "output_type": "error",
     "traceback": [
      "\u001b[0;36m  File \u001b[0;32m\"<ipython-input-4-9d60c0b0f77a>\"\u001b[0;36m, line \u001b[0;32m2\u001b[0m\n\u001b[0;31m    help argv\u001b[0m\n\u001b[0m            ^\u001b[0m\n\u001b[0;31mSyntaxError\u001b[0m\u001b[0;31m:\u001b[0m invalid syntax\n"
     ]
    }
   ],
   "source": [
    "import sys \n",
    "help argv"
   ]
  },
  {
   "cell_type": "code",
   "execution_count": 2,
   "metadata": {
    "collapsed": false
   },
   "outputs": [
    {
     "ename": "SyntaxError",
     "evalue": "invalid syntax (<ipython-input-2-ce9d86f24921>, line 1)",
     "output_type": "error",
     "traceback": [
      "\u001b[0;36m  File \u001b[0;32m\"<ipython-input-2-ce9d86f24921>\"\u001b[0;36m, line \u001b[0;32m1\u001b[0m\n\u001b[0;31m    help sys.argv\u001b[0m\n\u001b[0m           ^\u001b[0m\n\u001b[0;31mSyntaxError\u001b[0m\u001b[0;31m:\u001b[0m invalid syntax\n"
     ]
    }
   ],
   "source": [
    "help sys.argv"
   ]
  },
  {
   "cell_type": "code",
   "execution_count": null,
   "metadata": {
    "collapsed": true
   },
   "outputs": [],
   "source": []
  }
 ],
 "metadata": {
  "kernelspec": {
   "display_name": "Python 2",
   "language": "python",
   "name": "python2"
  },
  "language_info": {
   "codemirror_mode": {
    "name": "ipython",
    "version": 2
   },
   "file_extension": ".py",
   "mimetype": "text/x-python",
   "name": "python",
   "nbconvert_exporter": "python",
   "pygments_lexer": "ipython2",
   "version": "2.7.12"
  }
 },
 "nbformat": 4,
 "nbformat_minor": 2
}
